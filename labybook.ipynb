{
 "cells": [
  {
   "cell_type": "code",
   "execution_count": 1,
   "metadata": {},
   "outputs": [],
   "source": [
    "from collections import deque\n",
    "from IPython.display import Image"
   ]
  },
  {
   "cell_type": "markdown",
   "metadata": {},
   "source": [
    "## 1. Suivant le graphe (Graphe_) définit précédemment, écrire les fonctions permettant de parcourir tous les nœuds de ce graphe, décrire ce que fait rellement votre fonction."
   ]
  },
  {
   "cell_type": "code",
   "execution_count": 2,
   "metadata": {},
   "outputs": [
    {
     "name": "stdout",
     "output_type": "stream",
     "text": [
      "['G', 'D', 'B', 'A', 'C', 'E', 'F']\n"
     ]
    }
   ],
   "source": [
    "Graphe_ = { \n",
    "     'A':{'B':2, 'C':1}, \n",
    "     'B':{'A':2, 'C':2, 'D':1, 'E':3}, \n",
    "     'C':{'A':1, 'B':2, 'D':4, 'E':3, 'F':5}, \n",
    "     'D':{'B':1, 'C':4, 'E':3, 'F':6, 'G':5}, \n",
    "     'E':{'B':3, 'C':3, 'D':3, 'F':1}, \n",
    "     'F':{'C':5, 'D':6, 'E':1, 'G':2}, \n",
    "     'G':{'D':5, 'F':2} }\n",
    "\n",
    "def profondeur(graph, node, visited=None):\n",
    "\n",
    "    if visited is None:\n",
    "        visited = []\n",
    "\n",
    "    if node not in visited:\n",
    "        visited.append(node)\n",
    "\n",
    "    unvisited = [n for n in graph[node] if n not in visited]\n",
    "\n",
    "    for node in unvisited:\n",
    "        profondeur(graph, node, visited)\n",
    "\n",
    "    return visited\n",
    "\n",
    "print(profondeur(Graphe_, 'G'))"
   ]
  },
  {
   "cell_type": "markdown",
   "metadata": {},
   "source": [
    "Cette fonction permet de parcourir chaque noeud, en prenant G comme point de\n",
    "depart, elle demarre donc a la case G du dictionnaire, premier croisement nous\n",
    "avons D:5, Nous allons donc au noeuf D, premier croisement B:1, => noeud A, dans\n",
    "le noeud un nous avont B : 2 comme premier croisement, vu que c'est un noeud\n",
    "deja visité, nous passons au deuxieme croisement qui est C, \n",
    "Dans le C nous avont les 3 premier croisement A, B, D qui sont deja visite donc\n",
    "la fonction recupere le 4eme croisement qui est E qui n'a jamais été visite\n",
    "il fait ca jusqua ce que tout les noeud ont été parcouru.\n"
   ]
  },
  {
   "cell_type": "code",
   "execution_count": 3,
   "metadata": {},
   "outputs": [
    {
     "name": "stdout",
     "output_type": "stream",
     "text": [
      "['G', 'D', 'F', 'B', 'C', 'E', 'F', 'C', 'E', 'A', 'C', 'E', 'A', 'E']\n"
     ]
    }
   ],
   "source": [
    "def largeur(graph, start):\n",
    " \n",
    "    visited = []\n",
    "    queue = deque()\n",
    "    queue.append(start)\n",
    "    lenlen = []\n",
    "\n",
    "    while queue:\n",
    "        node = queue.popleft()\n",
    "        lenlen.append(node)\n",
    "        \n",
    "        if node not in visited:\n",
    "            visited.append(node)\n",
    "            unvisited = [n for n in graph[node] if n not in visited]\n",
    "            queue.extend(unvisited)\n",
    "\n",
    "    return lenlen\n",
    "\n",
    "print(largeur(Graphe_, 'G'))\n"
   ]
  },
  {
   "cell_type": "markdown",
   "metadata": {},
   "source": [
    "## 2.Trouver 2 manière de parcourir un graphe de A à G. Quelle est la longueur de votre parcour"
   ]
  },
  {
   "cell_type": "code",
   "execution_count": 4,
   "metadata": {},
   "outputs": [
    {
     "name": "stdout",
     "output_type": "stream",
     "text": [
      "['A', 'B', 'C', 'D', 'E', 'F', 'G']\n",
      "7\n",
      "['A', 'B', 'C', 'C', 'D', 'E', 'D', 'E', 'F', 'E', 'F', 'G', 'F', 'G']\n",
      "14\n"
     ]
    }
   ],
   "source": [
    "print(profondeur(Graphe_, 'A'))\n",
    "print(len(profondeur(Graphe_, 'A')))\n",
    "\n",
    "\n",
    "print(largeur(Graphe_, 'A'))\n",
    "print(len(largeur(Graphe_, 'A')))"
   ]
  },
  {
   "cell_type": "markdown",
   "metadata": {},
   "source": [
    "## 3. Utiliser l'algorhithme de dijkstra pour connaitre la plus courte distance entre un sommet et tout les autres"
   ]
  },
  {
   "cell_type": "code",
   "execution_count": 5,
   "metadata": {},
   "outputs": [],
   "source": [
    "def moore_dijkstra_1(G, s):\n",
    "    inf = sum(sum(G[sommet][i] for i in G[sommet]) for sommet in G) + 1\n",
    "        #On considère comme \"infini\" un majorant de la somme de toutes les\n",
    "        #pondérations du graphe\n",
    "    s_explore = {s : [0, [s]]}\n",
    "        #On associe au sommet d'origine s la liste [longueur, plus court chemin]\n",
    "    s_a_explorer = {j : [inf, \"\"] for j in G if j != s}\n",
    "        #On associe à chaque sommet j à explorer la liste [longueur, sommet précédent]\n",
    "    for suivant in G[s]:\n",
    "        s_a_explorer[suivant] = [G[s][suivant], s]\n",
    "\n",
    "    print(\"Dans le graphe d\\'origine {} dont les arcs sont :\".format(s))\n",
    "    for k in G:\n",
    "        print(k, \":\", G[k])\n",
    "    print()\n",
    "    print(\"Plus courts chemin de\")\n",
    "\n",
    "    #On créé une boucle qui tourne tant que la liste des sommets à explorer contient\n",
    "    #des points tels que la longueur provisoire calculée depuis l'origine est\n",
    "    #inférieure à l'infini\n",
    "    while s_a_explorer and any(s_a_explorer[k][0] < inf for k in s_a_explorer):\n",
    "        s_min = min(s_a_explorer, key = s_a_explorer.get)\n",
    "        longueur_s_min, precedent_s_min = s_a_explorer[s_min]\n",
    "        for successeur in G[s_min]:\n",
    "            if successeur in s_a_explorer:\n",
    "                dist = longueur_s_min + G[s_min][successeur]\n",
    "                if dist < s_a_explorer[successeur][0]:\n",
    "                    s_a_explorer[successeur] = [dist, s_min]\n",
    "        s_explore[s_min] = [longueur_s_min, s_explore[precedent_s_min][1] + [s_min]]\n",
    "        del s_a_explorer[s_min]\n",
    "        print(\"longueur\", longueur_s_min, \":\", \" -> \".join(s_explore[s_min][1]))\n",
    "\n",
    "    for k in s_a_explorer:\n",
    "        print(\"Il n\\'y a aucun chemin de {} à {}\".format(s, k))\n",
    "    print()\n",
    "\n",
    "    return s_explore"
   ]
  },
  {
   "cell_type": "code",
   "execution_count": 6,
   "metadata": {},
   "outputs": [
    {
     "name": "stdout",
     "output_type": "stream",
     "text": [
      "Dans le graphe d'origine A dont les arcs sont :\n",
      "A : {'B': 2, 'C': 1}\n",
      "B : {'A': 2, 'C': 2, 'D': 1, 'E': 3}\n",
      "C : {'A': 1, 'B': 2, 'D': 4, 'E': 3, 'F': 5}\n",
      "D : {'B': 1, 'C': 4, 'E': 3, 'F': 6, 'G': 5}\n",
      "E : {'B': 3, 'C': 3, 'D': 3, 'F': 1}\n",
      "F : {'C': 5, 'D': 6, 'E': 1, 'G': 2}\n",
      "G : {'D': 5, 'F': 2}\n",
      "\n",
      "Plus courts chemin de\n",
      "longueur 1 : A -> C\n",
      "longueur 2 : A -> B\n",
      "longueur 3 : A -> B -> D\n",
      "longueur 4 : A -> C -> E\n",
      "longueur 5 : A -> C -> E -> F\n",
      "longueur 7 : A -> C -> E -> F -> G\n",
      "\n"
     ]
    },
    {
     "data": {
      "text/plain": [
       "{'A': [0, ['A']],\n",
       " 'C': [1, ['A', 'C']],\n",
       " 'B': [2, ['A', 'B']],\n",
       " 'D': [3, ['A', 'B', 'D']],\n",
       " 'E': [4, ['A', 'C', 'E']],\n",
       " 'F': [5, ['A', 'C', 'E', 'F']],\n",
       " 'G': [7, ['A', 'C', 'E', 'F', 'G']]}"
      ]
     },
     "execution_count": 6,
     "metadata": {},
     "output_type": "execute_result"
    }
   ],
   "source": [
    "moore_dijkstra_1(Graphe_, 'A')"
   ]
  },
  {
   "cell_type": "markdown",
   "metadata": {},
   "source": [
    "## 4. Je souhaite aller du point A au point B, je veux considérer qu'elle est la distance la plus courte pour aller d'un point à un notre en considérant les poids associés à chacun des nœuds. Donc je souhaite aller de A à G, lorsque je suis au point A, j'ai le choix de passer par B ou C, la distance au point C est plus petite, cependant ça ne nous garanti pas que la distance du point B au G soit plus grande. Les questions qu'on peut alors se poser sont les suivantes : doit-on évaluer tous les chemin possible et calculer leur distance (on somme les poids par exemple) pour en déduire quelle est la distance la plus petite. Ou doit-on systématiquement choisir l'arête possédant la pondération la plus faible comme étape suivante ?"
   ]
  },
  {
   "cell_type": "code",
   "execution_count": 7,
   "metadata": {},
   "outputs": [],
   "source": [
    "def affiche_peres(pere,depart,extremite,trajet):\n",
    "    if extremite == depart:\n",
    "        return [depart] + trajet\n",
    "    else:\n",
    "        return (affiche_peres(pere, depart, pere[extremite], [extremite] + trajet))\n",
    "\n",
    "def plus_court(graphe,etape,fin,visites,dist,pere,depart):\n",
    "    if etape == fin:\n",
    "       return dist[fin], affiche_peres(pere,depart,fin,[])\n",
    "    if  len(visites) == 0 : dist[etape]=0\n",
    "    for voisin in graphe[etape]:\n",
    "        if voisin not in visites:\n",
    "            dist_voisin = dist.get(voisin,float('inf'))\n",
    "            candidat_dist = dist[etape] + graphe[etape][voisin]\n",
    "            if candidat_dist < dist_voisin:\n",
    "                dist[voisin] = candidat_dist\n",
    "                pere[voisin] = etape\n",
    "    visites.append(etape)\n",
    "    non_visites = dict((s, dist.get(s,float('inf'))) for s in graphe if s not in visites)\n",
    "    noeud_plus_proche = min(non_visites, key = non_visites.get)\n",
    "    return plus_court(graphe,noeud_plus_proche,fin,visites,dist,pere,depart)\n",
    " \n",
    "def dij_rec(graphe,debut,fin):\n",
    "    return plus_court(graphe,debut,fin,[],{},{},debut)"
   ]
  },
  {
   "cell_type": "code",
   "execution_count": 8,
   "metadata": {},
   "outputs": [
    {
     "data": {
      "text/plain": [
       "(7, ['A', 'C', 'E', 'F', 'G'])"
      ]
     },
     "execution_count": 8,
     "metadata": {},
     "output_type": "execute_result"
    }
   ],
   "source": [
    "dij_rec(Graphe_, 'A', 'G')"
   ]
  },
  {
   "cell_type": "markdown",
   "metadata": {},
   "source": [
    "## 5. Crée une class"
   ]
  },
  {
   "cell_type": "code",
   "execution_count": 9,
   "metadata": {},
   "outputs": [],
   "source": [
    "class djiska:\n",
    "    \n",
    "    def __init__(self, graphe):\n",
    "        self.graphe = graphe\n",
    "        \n",
    "    def plus_court(self, graphe, etape, fin,visites,dist,pere,depart):\n",
    "        if etape == fin:\n",
    "           return dist[fin], affiche_peres(pere,depart,fin,[])\n",
    "        if  len(visites) == 0 : dist[etape]=0\n",
    "        for voisin in graphe[etape]:\n",
    "            if voisin not in visites:\n",
    "                dist_voisin = dist.get(voisin,float('inf'))\n",
    "                candidat_dist = dist[etape] + graphe[etape][voisin]\n",
    "                if candidat_dist < dist_voisin:\n",
    "                    dist[voisin] = candidat_dist\n",
    "                    pere[voisin] = etape\n",
    "        visites.append(etape)\n",
    "        non_visites = dict((s, dist.get(s,float('inf'))) for s in graphe if s not in visites)\n",
    "        noeud_plus_proche = min(non_visites, key = non_visites.get)\n",
    "        return plus_court(graphe,noeud_plus_proche,fin,visites,dist,pere,depart)\n",
    "    \n",
    "    def dij_rec(self, graphe, debut, fin):\n",
    "        return plus_court(graphe,debut,fin,[],{},{},debut)"
   ]
  },
  {
   "cell_type": "code",
   "execution_count": 10,
   "metadata": {},
   "outputs": [
    {
     "data": {
      "text/plain": [
       "(7, ['A', 'C', 'E', 'F', 'G'])"
      ]
     },
     "execution_count": 10,
     "metadata": {},
     "output_type": "execute_result"
    }
   ],
   "source": [
    "a = djiska(Graphe_)\n",
    "\n",
    "a.dij_rec(Graphe_, 'A', 'G')"
   ]
  },
  {
   "cell_type": "markdown",
   "metadata": {},
   "source": [
    "## 6. Création d'un labyrinth"
   ]
  },
  {
   "cell_type": "code",
   "execution_count": 11,
   "metadata": {},
   "outputs": [
    {
     "data": {
      "image/png": "[encoded data removed]",
      "text/plain": [
       "<IPython.core.display.Image object>"
      ]
     },
     "execution_count": 11,
     "metadata": {},
     "output_type": "execute_result"
    }
   ],
   "source": [
    "Image(\"img/laby2.png\")"
   ]
  },
  {
   "cell_type": "markdown",
   "metadata": {},
   "source": [
    "### Parcours en profondeur du labyrinth"
   ]
  },
  {
   "cell_type": "code",
   "execution_count": 12,
   "metadata": {},
   "outputs": [
    {
     "name": "stdout",
     "output_type": "stream",
     "text": [
      "['A1', 'B1', 'C1', 'D1', 'E1', 'B2', 'B3', 'C3', 'C4', 'B4', 'A4', 'A3', 'A2', 'D4', 'D3', 'E3', 'E2', 'D2', 'C2', 'E4', 'E5', 'D5', 'C5', 'B5', 'A5']\n"
     ]
    }
   ],
   "source": [
    "Graphe_2 = { \n",
    "     'A1':['B1'], \n",
    "     'B1':['A1','C1','B2'],\n",
    "     'C1':['B1', 'D1'],\n",
    "     'D1':['C1', 'E1'],\n",
    "     'E1':['D1'],\n",
    "     'A2':['A3'],\n",
    "     'B2':['B1', 'B3'],\n",
    "     'C2':['D2'],\n",
    "     'D2':['C2', 'E2'],\n",
    "     'E2':['D2', 'E3'],\n",
    "     'A3':['A2', 'A4'],\n",
    "     'B3':['B2', 'C3'],\n",
    "     'C3':['B3', 'C4'],\n",
    "     'D3':['E3', 'D4'],\n",
    "     'E3':['E2', 'D3'],\n",
    "     'A4':['A3', 'B4'],\n",
    "     'B4':['A4', 'C4'],\n",
    "     'C4':['C3', 'B4', 'D4'],\n",
    "     'D4':['C4', 'D3', 'E4', 'D5'],\n",
    "     'E4':['D4', 'E5'],\n",
    "     'A5':['B5'],\n",
    "     'B5':['A5', 'C5'],\n",
    "     'C5':['B5', 'D5'],\n",
    "     'D5':['C5', 'D4'],\n",
    "     'E5':['E4']}\n",
    "\n",
    "Graphe_21 = {}\n",
    "\n",
    "#CONVERTIR LISTE EN DICT\n",
    "for k, v in Graphe_2.items():\n",
    "    dict_temp = {}\n",
    "    for i in v:\n",
    "        dict_temp[i] = 1\n",
    "    Graphe_21[k] = dict_temp   \n",
    "    \n",
    "\n",
    "print(profondeur(Graphe_21, 'A1'))"
   ]
  },
  {
   "cell_type": "markdown",
   "metadata": {},
   "source": [
    "### Parcours avec Djilkstra"
   ]
  },
  {
   "cell_type": "code",
   "execution_count": 13,
   "metadata": {},
   "outputs": [
    {
     "name": "stdout",
     "output_type": "stream",
     "text": [
      "{'A1': {'B1': 1}, 'B1': {'A1': 1, 'C1': 1, 'B2': 1}, 'C1': {'B1': 1, 'D1': 1}, 'D1': {'C1': 1, 'E1': 1}, 'E1': {'D1': 1}, 'A2': {'A3': 1}, 'B2': {'B1': 1, 'B3': 1}, 'C2': {'D2': 1}, 'D2': {'C2': 1, 'E2': 1}, 'E2': {'D2': 1, 'E3': 1}, 'A3': {'A2': 1, 'A4': 1}, 'B3': {'B2': 1, 'C3': 1}, 'C3': {'B3': 1, 'C4': 1}, 'D3': {'E3': 1, 'D4': 1}, 'E3': {'E2': 1, 'D3': 1}, 'A4': {'A3': 1, 'B4': 1}, 'B4': {'A4': 1, 'C4': 1}, 'C4': {'C3': 1, 'B4': 1, 'D4': 1}, 'D4': {'C4': 1, 'D3': 1, 'E4': 1, 'D5': 1}, 'E4': {'D4': 1, 'E5': 1}, 'A5': {'B5': 1}, 'B5': {'A5': 1, 'C5': 1}, 'C5': {'B5': 1, 'D5': 1}, 'D5': {'C5': 1, 'D4': 1}, 'E5': {'E4': 1}}\n"
     ]
    },
    {
     "data": {
      "text/plain": [
       "(8, ['A1', 'B1', 'B2', 'B3', 'C3', 'C4', 'D4', 'E4', 'E5'])"
      ]
     },
     "execution_count": 13,
     "metadata": {},
     "output_type": "execute_result"
    }
   ],
   "source": [
    "d = djiska(Graphe_21)\n",
    "\n",
    "print(Graphe_21)\n",
    "\n",
    "d.dij_rec(Graphe_21, 'A1', 'E5')"
   ]
  },
  {
   "cell_type": "markdown",
   "metadata": {},
   "source": [
    "### 7. Génération d'un perfect labyrinth aléatoire + Parcours djikstra"
   ]
  },
  {
   "cell_type": "code",
   "execution_count": 14,
   "metadata": {},
   "outputs": [
    {
     "name": "stdout",
     "output_type": "stream",
     "text": [
      "._._._._._.\n",
      "| . ._| . |\n",
      "| | | ._| |\n",
      "| |_._| | |\n",
      "|_._._. | |\n",
      "|_._._._|_|\n",
      "Start Point   : (4,4)\n",
      "End Point     : (0,3)\n",
      "\n",
      "[[(0, 1), (0, 2)], [(3, 3), (2, 3)], [(3, 3), (2, 3)], [(3, 3), (2, 3)], [(4, 1), (4, 0)], [(4, 2), (4, 1)], [(4, 2), (4, 1)], [(4, 2), (4, 1)], [(4, 3), (4, 2)], [(4, 3), (4, 2)], [(4, 3), (4, 2)], [(3, 3), (2, 3), (4, 3)], [(3, 2), (3, 3)], [(3, 2), (3, 3)], [(3, 2), (3, 3)], [(3, 2), (3, 3)], [(3, 1), (3, 2)], [(3, 1), (3, 2)], [(3, 1), (3, 2)], [(3, 0), (3, 1)], [(3, 0), (3, 1)], [(3, 0), (3, 1)], [(2, 0), (3, 0)], [(2, 0), (3, 0)], [(1, 0), (2, 0)], [(0, 0), (1, 0)], [(0, 1), (0, 2), (0, 0)], [(1, 1), (0, 1)], [(1, 1), (0, 1)], [(1, 1), (0, 1)], [(2, 1), (1, 1)], [(2, 1), (1, 1)], [(2, 1), (1, 1)], [(2, 1), (1, 1)], [(2, 2), (2, 1)], [(2, 2), (2, 1)], [(2, 2), (2, 1)], [(1, 2), (2, 2)], [(1, 2), (2, 2)], [(1, 2), (2, 2)], [(1, 2), (2, 2)], [(1, 3), (1, 2)], [(1, 3), (1, 2)], [(1, 3), (1, 2)], [(1, 3), (1, 2)], [(0, 3), (1, 3)], [(0, 3), (1, 3)], [(0, 4), (0, 3)], [(0, 4), (0, 3)], [(1, 4), (0, 4)], [(1, 4), (0, 4)], [(1, 4), (0, 4)], [(2, 4), (1, 4)], [(2, 4), (1, 4)], [(3, 4), (2, 4)], [(3, 4), (2, 4)], [(3, 4), (2, 4)], [(4, 4), (3, 4)], [(4, 4), (3, 4)]]\n"
     ]
    }
   ],
   "source": [
    "from laby import *"
   ]
  },
  {
   "cell_type": "markdown",
   "metadata": {},
   "source": [
    "Voir laby.py pour le code"
   ]
  },
  {
   "cell_type": "code",
   "execution_count": 15,
   "metadata": {},
   "outputs": [
    {
     "name": "stdout",
     "output_type": "stream",
     "text": [
      "._._._._._.\n",
      "| . | ._. |\n",
      "| | | | | |\n",
      "|_|_._._| |\n",
      "| ._._| . |\n",
      "|_._._._|_|\n",
      "Start Point   : (3,2)\n",
      "End Point     : (2,3)\n",
      "\n",
      "Chemin le plus court :\n",
      "Path : [[3, 2], [3, 1], [3, 0], [4, 0], [4, 1], [4, 2], [4, 3], [3, 3], [3, 4], [2, 4], [1, 4], [0, 4], [0, 3], [0, 2], [1, 2], [2, 2], [2, 3]]\n"
     ]
    }
   ],
   "source": [
    "a = Maze(5,5)\n",
    "print(a)\n",
    "\n",
    "print(\"Chemin le plus court :\")\n",
    "b = Maze.solve_maze(a)\n",
    "#Fonction trouvé qui n'utilise pas dikstra"
   ]
  },
  {
   "cell_type": "markdown",
   "metadata": {},
   "source": [
    "### 8. solve with dikstra"
   ]
  },
  {
   "cell_type": "code",
   "execution_count": 16,
   "metadata": {},
   "outputs": [
    {
     "data": {
      "text/plain": [
       "'\\n\\ndico = {}\\n\\n\\nfor i in DICTOFINAL:\\n    size = len(i)\\n    if i[0] not in dico.keys():\\n        dico[i[0]] = [i[1]]\\n    else:\\n        for n in range(1,size):\\n            if i[n] not in dico[i[0]]:\\n                dico[i[0]].append(i[n])\\n\\n                \\ndico2 = dico.copy()\\n                \\nfor k, v in dico.items():\\n    for i in v:\\n        if i not in dico.keys():\\n            dico2[i] = [k]\\n            \\ndico3 = dico2.copy()\\n\\nfor k,v in dico2.items():\\n    for k2, v2 in dico2.items():\\n        if k in v2 and k2 not in dico3[k]:\\n             dico3[k].append(k2)\\n\\ndico4 = {}\\nfor k, v in dico3.items():\\n    dict_temp = {}\\n    for i in v:\\n        dict_temp[i] = 1\\n    dico4[k] = dict_temp   \\n\\nprint(laby)\\nMyMaze.solver(laby)\\nDICTOFINAL\\n'"
      ]
     },
     "execution_count": 16,
     "metadata": {},
     "output_type": "execute_result"
    }
   ],
   "source": [
    "#-----------------------------------------------------------\n",
    "#\n",
    "#\n",
    "#            to keep\n",
    "#\n",
    "#\n",
    "#-----------------------------------------------------------\n",
    "\n",
    "\"\"\"\n",
    "\n",
    "dico = {}\n",
    "\n",
    "\n",
    "for i in DICTOFINAL:\n",
    "    size = len(i)\n",
    "    if i[0] not in dico.keys():\n",
    "        dico[i[0]] = [i[1]]\n",
    "    else:\n",
    "        for n in range(1,size):\n",
    "            if i[n] not in dico[i[0]]:\n",
    "                dico[i[0]].append(i[n])\n",
    "\n",
    "                \n",
    "dico2 = dico.copy()\n",
    "                \n",
    "for k, v in dico.items():\n",
    "    for i in v:\n",
    "        if i not in dico.keys():\n",
    "            dico2[i] = [k]\n",
    "            \n",
    "dico3 = dico2.copy()\n",
    "\n",
    "for k,v in dico2.items():\n",
    "    for k2, v2 in dico2.items():\n",
    "        if k in v2 and k2 not in dico3[k]:\n",
    "             dico3[k].append(k2)\n",
    "\n",
    "dico4 = {}\n",
    "for k, v in dico3.items():\n",
    "    dict_temp = {}\n",
    "    for i in v:\n",
    "        dict_temp[i] = 1\n",
    "    dico4[k] = dict_temp   \n",
    "\n",
    "print(laby)\n",
    "MyMaze.solver(laby)\n",
    "DICTOFINAL\n",
    "\"\"\""
   ]
  },
  {
   "cell_type": "code",
   "execution_count": 17,
   "metadata": {},
   "outputs": [
    {
     "name": "stdout",
     "output_type": "stream",
     "text": [
      "._._._._._.\n",
      "| . | . ._|\n",
      "| |_| |_. |\n",
      "|_._. ._| |\n",
      "| ._|_| . |\n",
      "|_._._._|_|\n",
      "Start Point   : (3,1)\n",
      "End Point     : (1,4)\n",
      "\n"
     ]
    }
   ],
   "source": [
    "import random\n",
    "\n",
    "BOTTOMWALL = 0\n",
    "RIGHTWALL = 1\n",
    "VISITED = 2\n",
    "UP = 0\n",
    "RIGHT = 1\n",
    "DOWN = 2\n",
    "LEFT = 3\n",
    "DICTOFINAL = []\n",
    "\n",
    "\n",
    "class Maze:\n",
    "\n",
    "  def __init__(self,rows,cols, dictofinal=[]):\n",
    "    \n",
    "    #INIT \n",
    "    self.rows = rows\n",
    "    self.cols = cols\n",
    "    \n",
    "    #??????????\n",
    "    self.maze = [[[True,True,False] for j in range(cols)] for i in range(rows)]\n",
    "    \n",
    "    #START POSITION\n",
    "    self.startrow = random.randrange(rows)\n",
    "    self.startcol = random.randrange(cols)\n",
    "    \n",
    "    #END POSITION\n",
    "    self.endrow = random.randrange(rows)\n",
    "    self.endcol = random.randrange(cols)\n",
    "    \n",
    "    #CURR POSITION\n",
    "    currrow = self.startrow\n",
    "    currcol = self.startcol\n",
    "\n",
    "    #GENERATE MAZE WITH CURR POSITION\n",
    "    self._gen_maze(currrow,currcol)\n",
    "\n",
    "    #????????????????????????\n",
    "    self.numtable = [[-1 for j in range(cols)]for i in range(rows)]\n",
    "\n",
    "    #SOLUTION PATH INIT\n",
    "    self.solutionpath = []\n",
    "\n",
    "    \n",
    "  #-----------------------------------------------------------------------------\n",
    "\n",
    "  # RETURN ASCII MAZE GRAPHIQUE\n",
    "  def __str__(self):\n",
    "\n",
    "    # DEFINE UPPER ROWS\n",
    "    laby = '.'+self.cols*'_.'+'\\n'\n",
    "    \n",
    "    # BOUCLE OTHER ROWS\n",
    "    for i in range(self.rows):\n",
    "      laby += '|'\n",
    "      \n",
    "      # DEFINE WALL\n",
    "      for j in range(self.cols):\n",
    "        if self.maze[i][j][BOTTOMWALL]:\n",
    "          laby += '_'\n",
    "        else:\n",
    "          laby += ' '\n",
    "        if self.maze[i][j][RIGHTWALL]:\n",
    "          laby += '|'\n",
    "        else:\n",
    "          laby += '.'\n",
    "\n",
    "      laby += '\\n'\n",
    "\n",
    "    laby += 'Start Point   : ('+str(self.startrow)+','+str(self.startcol)+')\\n'\n",
    "    laby += 'End Point     : ('+str(self.endrow)+','+str(self.endcol)+')\\n'\n",
    "\n",
    "    return laby\n",
    "\n",
    "  #------------------------------------------------------------------------------\n",
    "\n",
    "  # get a list with posible directions from the current position\n",
    "  def _get_dirs(self,r,c):\n",
    "    dirlist = []\n",
    "\n",
    "    # check limits\n",
    "    if r-1 >= 0           : dirlist.append(UP)\n",
    "    if r+1 <= self.rows-1 : dirlist.append(DOWN)\n",
    "    if c-1 >= 0           : dirlist.append(LEFT)\n",
    "    if c+1 <= self.cols-1 : dirlist.append(RIGHT)\n",
    "\n",
    "    return dirlist\n",
    "\n",
    "  #------------------------------------------------------------------------------\n",
    "\n",
    "  # generates the maze with depth-first algorithm\n",
    "  def _gen_maze(self,r,c,d=None):\n",
    "    maze = self.maze\n",
    "    # knock down the wall between actual and previous position\n",
    "    maze[r][c][VISITED] = True\n",
    "    if   d == UP    : maze[r]  [c]    [BOTTOMWALL] = False\n",
    "    elif d == DOWN  : maze[r-1][c]    [BOTTOMWALL] = False\n",
    "    elif d == RIGHT : maze[r]  [c-1]  [RIGHTWALL]  = False\n",
    "    elif d == LEFT  : maze[r]  [c]    [RIGHTWALL]  = False\n",
    "\n",
    "    # get the next no visited directions to move\n",
    "    dirs = self._get_dirs(r,c)\n",
    "    dicto = []\n",
    "    # random reorder directions\n",
    "    for i in range(len(dirs)):\n",
    "      j = random.randrange(len(dirs))\n",
    "      dirs[i],dirs[j] = dirs[j],dirs[i]\n",
    "    \n",
    "    # make recursive call if the target cell is not visited\n",
    "    for d in dirs:\n",
    "      if d==UP:\n",
    "        if not maze[r-1][c][VISITED]:\n",
    "          dicto.append((r,c))\n",
    "          self._gen_maze( r-1,c,UP )\n",
    "          dicto.append((r-1,c))\n",
    "          \n",
    "      elif d==DOWN:\n",
    "        if not maze[r+1][c][VISITED]:\n",
    "          dicto.append((r,c))\n",
    "          self._gen_maze( r+1,c,DOWN )\n",
    "          dicto.append((r+1,c)) \n",
    "          \n",
    "      if d==RIGHT:  \n",
    "        if not maze[r][c+1][VISITED]:\n",
    "          dicto.append((r,c))\n",
    "          self._gen_maze( r,c+1,RIGHT )\n",
    "          dicto.append((r,c+1))   \n",
    "      elif d==LEFT:\n",
    "        if not maze[r][c-1][VISITED]:\n",
    "          dicto.append((r,c))\n",
    "          self._gen_maze( r,c-1,LEFT )\n",
    "          dicto.append((r,c-1))\n",
    "      if not dicto == []:\n",
    "          dictemp=[]\n",
    "          for i in dicto:\n",
    "              if i not in dictemp:\n",
    "                  dictemp.append(i)\n",
    "          DICTOFINAL.append(dictemp)\n",
    "\n",
    "        \n",
    " \n",
    "a =Maze(5,5)\n",
    "print(a)\n",
    "dico = {}\n",
    "\n",
    "\n",
    "for i in DICTOFINAL:\n",
    "    size = len(i)\n",
    "    if i[0] not in dico.keys():\n",
    "        dico[i[0]] = [i[1]]\n",
    "    else:\n",
    "        for n in range(1,size):\n",
    "            if i[n] not in dico[i[0]]:\n",
    "                dico[i[0]].append(i[n])\n",
    "\n",
    "                \n",
    "dico2 = dico.copy()\n",
    "                \n",
    "for k, v in dico.items():\n",
    "    for i in v:\n",
    "        if i not in dico.keys():\n",
    "            dico2[i] = [k]\n",
    "            \n",
    "dico3 = dico2.copy()\n",
    "\n",
    "for k,v in dico2.items():\n",
    "    for k2, v2 in dico2.items():\n",
    "        if k in v2 and k2 not in dico3[k]:\n",
    "             dico3[k].append(k2)\n",
    "\n",
    "dico4 = {}\n",
    "for k, v in dico3.items():\n",
    "    dict_temp = {}\n",
    "    for i in v:\n",
    "        dict_temp[i] = 1\n",
    "    dico4[k] = dict_temp   \n"
   ]
  },
  {
   "cell_type": "code",
   "execution_count": 18,
   "metadata": {},
   "outputs": [
    {
     "data": {
      "text/plain": [
       "(6, [(3, 3), (4, 3), (4, 2), (4, 1), (4, 0), (3, 0), (3, 1)])"
      ]
     },
     "execution_count": 18,
     "metadata": {},
     "output_type": "execute_result"
    }
   ],
   "source": [
    "a = (3,3)\n",
    "b = (3,1)\n",
    "dij_rec(dico4, a, b)"
   ]
  },
  {
   "cell_type": "code",
   "execution_count": null,
   "metadata": {},
   "outputs": [],
   "source": []
  }
 ],
 "metadata": {
  "kernelspec": {
   "display_name": "Python 3",
   "language": "python",
   "name": "python3"
  },
  "language_info": {
   "codemirror_mode": {
    "name": "ipython",
    "version": 3
   },
   "file_extension": ".py",
   "mimetype": "text/x-python",
   "name": "python",
   "nbconvert_exporter": "python",
   "pygments_lexer": "ipython3",
   "version": "3.8.5"
  }
 },
 "nbformat": 4,
 "nbformat_minor": 4
}
